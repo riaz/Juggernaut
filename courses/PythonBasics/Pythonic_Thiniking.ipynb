{
 "cells": [
  {
   "cell_type": "code",
   "execution_count": null,
   "metadata": {},
   "outputs": [],
   "source": [
    "\"\"\"\n",
    "Imports of libraries should be in the following order\n",
    "\n",
    "1. standard libraries\n",
    "2. 3rd party libraries\n",
    "3. your own libraries\n",
    "\"\"\""
   ]
  },
  {
   "cell_type": "code",
   "execution_count": 2,
   "metadata": {},
   "outputs": [
    {
     "name": "stdout",
     "output_type": "stream",
     "text": [
      "[104, 101, 108, 108, 111]\n",
      "['h', 'e', 'l', 'l', 'o']\n"
     ]
    }
   ],
   "source": [
    "### Item 3: Diff between bytes and str\n",
    "#  Both represent sequence of characters - bytes - unsigned 8-bit , str - unicode\n",
    "\n",
    "a = b'h\\x65llo'\n",
    "print(list(a))\n",
    "\n",
    "a1 = '\\u0068ello'\n",
    "print(list(a1))"
   ]
  },
  {
   "cell_type": "code",
   "execution_count": 15,
   "metadata": {},
   "outputs": [
    {
     "name": "stdout",
     "output_type": "stream",
     "text": [
      "'hello'\n",
      "'hello'\n",
      "b'hello'\n",
      "b'hello'\n"
     ]
    }
   ],
   "source": [
    "### 2 helper functions to deal with bytes/str interconversion\n",
    "\n",
    "#1  - bytes to str\n",
    "def to_str(bytes_or_str):\n",
    "    if isinstance(bytes_or_str, bytes): # we will decode to utf-8\n",
    "        value = bytes_or_str.decode(\"utf-8\")\n",
    "    else:\n",
    "        value = bytes_or_str\n",
    "    return value\n",
    "\n",
    "# Testing\n",
    "print(repr(to_str(b'hello')))\n",
    "print(repr(to_str('hello')))\n",
    "\n",
    "# 2 - string to bytes\n",
    "\n",
    "def to_bytes(bytes_or_str):\n",
    "    if isinstance(bytes_or_str, str):\n",
    "        value = bytes_or_str.encode('utf-8')\n",
    "    else:\n",
    "        value = bytes_or_str\n",
    "    return value\n",
    "\n",
    "# Testing\n",
    "print(repr(to_bytes(b'hello')))\n",
    "print(repr(to_bytes('hello')))\n"
   ]
  },
  {
   "cell_type": "code",
   "execution_count": 20,
   "metadata": {},
   "outputs": [
    {
     "name": "stdout",
     "output_type": "stream",
     "text": [
      "1234.53\n",
      "*      my string       *\n",
      "pi         = 3.14\n"
     ]
    }
   ],
   "source": [
    "### Using formatting in python\n",
    "\n",
    "a = 1234.53443\n",
    "formatted = format(a, '.2f')\n",
    "print(formatted)\n",
    "\n",
    "b = 'my string'\n",
    "formatted = format(b, '^20s')\n",
    "print('*', formatted, '*')\n",
    "\n",
    "print('{:<10} = {:.2f}'.format('pi', 3.1416))"
   ]
  },
  {
   "cell_type": "code",
   "execution_count": 24,
   "metadata": {},
   "outputs": [
    {
     "name": "stdout",
     "output_type": "stream",
     "text": [
      "{'red': ['5', '20'], 'blue': ['0'], 'green': ['']}\n"
     ]
    }
   ],
   "source": [
    "### Item 5: Helper functions to simplify expressions\n",
    "\n",
    "from urllib.parse import parse_qs\n",
    "\n",
    "my_values = parse_qs('red=5&blue=0&red=20&green=', keep_blank_values=True)\n",
    "\n",
    "print(my_values)\n"
   ]
  },
  {
   "cell_type": "code",
   "execution_count": 25,
   "metadata": {},
   "outputs": [
    {
     "name": "stdout",
     "output_type": "stream",
     "text": [
      "dict_items([('chips', 140), ('popcorn', 80), ('nuts', 190)])\n"
     ]
    }
   ],
   "source": [
    "### Item 6: Prefer Multiple Assignment Unpacking over Indexing\n",
    "\n",
    "snack_calories = {\n",
    "    'chips': 140,\n",
    "    'popcorn': 80,\n",
    "    'nuts': 190\n",
    "}\n",
    "\n",
    "items = tuple(snack_calories.items())\n",
    "\n",
    "print(items)"
   ]
  },
  {
   "cell_type": "code",
   "execution_count": null,
   "metadata": {},
   "outputs": [],
   "source": []
  }
 ],
 "metadata": {
  "interpreter": {
   "hash": "59fb295b6d1575fb24ec56423f3d37055060f3ea09119d40a38b40c3288abf36"
  },
  "kernelspec": {
   "display_name": "Python 3.9.16 64-bit ('pymastery')",
   "language": "python",
   "name": "python3"
  },
  "language_info": {
   "codemirror_mode": {
    "name": "ipython",
    "version": 3
   },
   "file_extension": ".py",
   "mimetype": "text/x-python",
   "name": "python",
   "nbconvert_exporter": "python",
   "pygments_lexer": "ipython3",
   "version": "3.9.16"
  },
  "orig_nbformat": 4
 },
 "nbformat": 4,
 "nbformat_minor": 2
}
