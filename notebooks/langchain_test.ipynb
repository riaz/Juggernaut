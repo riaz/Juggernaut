{
 "cells": [
  {
   "cell_type": "code",
   "execution_count": 6,
   "metadata": {},
   "outputs": [],
   "source": [
    "from langchain.llms import OpenAIChat\n",
    "from langchain import PromptTemplate, LLMChain\n",
    "import os"
   ]
  },
  {
   "cell_type": "code",
   "execution_count": 7,
   "metadata": {},
   "outputs": [],
   "source": [
    "with open(\"../key\") as fs:\n",
    "    os.environ['OPENAI_API_KEY'] = fs.readlines()[0].strip()"
   ]
  },
  {
   "cell_type": "code",
   "execution_count": 8,
   "metadata": {},
   "outputs": [],
   "source": [
    "llm = OpenAIChat(temperature=0)"
   ]
  },
  {
   "cell_type": "code",
   "execution_count": 10,
   "metadata": {},
   "outputs": [],
   "source": [
    "template = \"\"\"Question: {question}\n",
    "Answer: Let's think step by step.\"\"\"\n",
    "\n",
    "prompt = PromptTemplate(template=template, input_variables=[\"question\"])"
   ]
  },
  {
   "cell_type": "code",
   "execution_count": 11,
   "metadata": {},
   "outputs": [],
   "source": [
    "llm_chain = LLMChain(prompt=prompt, llm=llm)"
   ]
  },
  {
   "cell_type": "code",
   "execution_count": 13,
   "metadata": {},
   "outputs": [],
   "source": [
    "question = \"What NFL team won the Super Bowl in the year Justin Beiber was born?\"\n",
    "\n",
    "res = llm_chain.run(question)"
   ]
  },
  {
   "cell_type": "code",
   "execution_count": 14,
   "metadata": {},
   "outputs": [
    {
     "name": "stdout",
     "output_type": "stream",
     "text": [
      "\n",
      "\n",
      "Justin Bieber was born on March 1, 1994. \n",
      "\n",
      "The Super Bowl is played in February of each year. \n",
      "\n",
      "Therefore, the Super Bowl that was played in the year Justin Bieber was born was Super Bowl XXVIII, which was played on January 30, 1994. \n",
      "\n",
      "The Dallas Cowboys won Super Bowl XXVIII by defeating the Buffalo Bills with a score of 30-13.\n"
     ]
    }
   ],
   "source": [
    "print(res)"
   ]
  },
  {
   "cell_type": "code",
   "execution_count": 15,
   "metadata": {},
   "outputs": [],
   "source": [
    "def ask_chatgpt(question):\n",
    "    res = llm_chain.run(question)\n",
    "    print(res)"
   ]
  },
  {
   "cell_type": "code",
   "execution_count": 17,
   "metadata": {},
   "outputs": [
    {
     "name": "stdout",
     "output_type": "stream",
     "text": [
      "\n",
      "\n",
      "First, we need to know when Gandhi died. Mahatma Gandhi, the Indian independence leader, was assassinated on January 30, 1948.\n",
      "\n",
      "Next, we need to determine which US president was in office at that time. Harry S. Truman was the President of the United States from 1945 to 1953, which includes the year 1948 when Gandhi died. Therefore, Harry S. Truman was the President of the US when Gandhi died.\n"
     ]
    }
   ],
   "source": [
    "ask_chatgpt(\"Who was the president of the US when Gandhi Died\")"
   ]
  },
  {
   "cell_type": "code",
   "execution_count": 18,
   "metadata": {},
   "outputs": [
    {
     "name": "stdout",
     "output_type": "stream",
     "text": [
      "\n",
      "\n",
      "Step 1: Convert your weight from pounds to kilograms. \n",
      "\n",
      "1 pound = 0.453592 kilograms \n",
      "\n",
      "180 pounds = 81.64656 kilograms \n",
      "\n",
      "Step 2: Calculate your weight on Earth with 1G gravity. \n",
      "\n",
      "1G gravity on Earth = 9.81 meters per second squared \n",
      "\n",
      "Weight = mass x gravity \n",
      "\n",
      "Weight = 81.64656 kg x 9.81 m/s^2 \n",
      "\n",
      "Weight = 800.09 Newtons \n",
      "\n",
      "Step 3: Convert your weight from Newtons to pounds. \n",
      "\n",
      "1 Newton = 0.224809 pounds \n",
      "\n",
      "800.09 Newtons = 179.99 pounds \n",
      "\n",
      "Therefore, if Earth gravity was 1G, you would weigh approximately 180 pounds.\n"
     ]
    }
   ],
   "source": [
    "ask_chatgpt(\"If earth gravity was 1G what would I weigh. My weight being 180 pounds\")"
   ]
  }
 ],
 "metadata": {
  "kernelspec": {
   "display_name": "pytorch",
   "language": "python",
   "name": "python3"
  },
  "language_info": {
   "codemirror_mode": {
    "name": "ipython",
    "version": 3
   },
   "file_extension": ".py",
   "mimetype": "text/x-python",
   "name": "python",
   "nbconvert_exporter": "python",
   "pygments_lexer": "ipython3",
   "version": "3.10.4"
  },
  "orig_nbformat": 4
 },
 "nbformat": 4,
 "nbformat_minor": 2
}
